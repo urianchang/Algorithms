{
 "cells": [
  {
   "cell_type": "code",
   "execution_count": 1,
   "metadata": {},
   "outputs": [],
   "source": [
    "from datetime import datetime, timedelta\n",
    "import json\n",
    "import random\n",
    "from typing import NamedTuple\n",
    "\n",
    "import pandas as pd"
   ]
  },
  {
   "cell_type": "code",
   "execution_count": 2,
   "metadata": {},
   "outputs": [],
   "source": [
    "def get_random_date(start: datetime, end: datetime) -> datetime:\n",
    "    \"\"\"Generates a random datetime between two timestamps.\n",
    "    \"\"\"\n",
    "    total_seconds = int((end - start).total_seconds())\n",
    "    rand_seconds_elapsed = random.randrange(0, total_seconds, 1)\n",
    "    timestamp = start + timedelta(seconds=rand_seconds_elapsed)\n",
    "    return timestamp"
   ]
  },
  {
   "cell_type": "code",
   "execution_count": 3,
   "metadata": {},
   "outputs": [],
   "source": [
    "DRUGS = \"ABCDEFG\"\n",
    "\n",
    "def get_random_drug() -> str:\n",
    "    return DRUGS[random.randrange(0, len(DRUGS), 1)]    "
   ]
  },
  {
   "cell_type": "code",
   "execution_count": 4,
   "metadata": {},
   "outputs": [],
   "source": [
    "id_count = 9\n",
    "max_rows = 12\n",
    "max_start = datetime(2015, 10, 1)\n",
    "max_end = datetime(2018, 3, 31)\n",
    "\n",
    "data = []\n",
    "for id_num in range(id_count):\n",
    "    rows: int = random.randrange(1, max_rows, 1)\n",
    "    for _ in range(rows):\n",
    "        timestamp = get_random_date(max_start, max_end)\n",
    "        supply = random.randrange(1, 30, 1)\n",
    "        data.append([\n",
    "            str(id_num),\n",
    "            get_random_drug(),\n",
    "            timestamp,\n",
    "            supply\n",
    "        ])"
   ]
  },
  {
   "cell_type": "code",
   "execution_count": 5,
   "metadata": {},
   "outputs": [],
   "source": [
    "df = pd.DataFrame(data, columns=[\"pid\", \"drug\", \"starttime\", \"count\"])\n",
    "\n",
    "# TODO: Do we want to convert timestamps into ISO-8601 strings?\n",
    "df.to_json('./data.json', orient='records', date_format='iso')"
   ]
  },
  {
   "cell_type": "code",
   "execution_count": null,
   "metadata": {},
   "outputs": [],
   "source": []
  }
 ],
 "metadata": {
  "kernelspec": {
   "display_name": "Python 3",
   "language": "python",
   "name": "python3"
  },
  "language_info": {
   "codemirror_mode": {
    "name": "ipython",
    "version": 3
   },
   "file_extension": ".py",
   "mimetype": "text/x-python",
   "name": "python",
   "nbconvert_exporter": "python",
   "pygments_lexer": "ipython3",
   "version": "3.7.4"
  }
 },
 "nbformat": 4,
 "nbformat_minor": 2
}
