{
 "cells": [
  {
   "cell_type": "code",
   "execution_count": 55,
   "metadata": {},
   "outputs": [],
   "source": [
    "from datetime import datetime, timedelta\n",
    "import json\n",
    "import random\n",
    "from typing import NamedTuple\n",
    "\n",
    "import pandas as pd"
   ]
  },
  {
   "cell_type": "code",
   "execution_count": 56,
   "metadata": {},
   "outputs": [],
   "source": [
    "def get_random_date(start: datetime, end: datetime) -> datetime:\n",
    "    \"\"\"Generates a random datetime between two timestamps.\n",
    "    \"\"\"\n",
    "    total_seconds = int((end - start).total_seconds())\n",
    "    rand_seconds_elapsed = random.randrange(0, total_seconds, 1)\n",
    "    timestamp = start + timedelta(seconds=rand_seconds_elapsed)\n",
    "    return timestamp"
   ]
  },
  {
   "cell_type": "code",
   "execution_count": 57,
   "metadata": {},
   "outputs": [],
   "source": [
    "DRUGS = \"ABCDEFG\"\n",
    "\n",
    "def get_random_drug() -> str:\n",
    "    return DRUGS[random.randrange(0, len(DRUGS), 1)]    "
   ]
  },
  {
   "cell_type": "code",
   "execution_count": 58,
   "metadata": {},
   "outputs": [],
   "source": [
    "id_count = 9\n",
    "max_rows = 12\n",
    "max_start = datetime(2015, 10, 1)\n",
    "max_end = datetime(2018, 3, 31)\n",
    "\n",
    "data = []\n",
    "for id_num in range(id_count):\n",
    "    rows: int = random.randrange(1, max_rows, 1)\n",
    "    for _ in range(rows):\n",
    "        timestamp = get_random_date(max_start, max_end)\n",
    "        supply = random.randrange(1, 30, 1)\n",
    "        data.append([\n",
    "            str(id_num),\n",
    "            get_random_drug(),\n",
    "            timestamp,\n",
    "            supply\n",
    "        ])"
   ]
  },
  {
   "cell_type": "code",
   "execution_count": 59,
   "metadata": {},
   "outputs": [
    {
     "data": {
      "text/plain": [
       "'[{\"pid\":\"0\",\"drug\":\"B\",\"starttime\":\"2017-04-26T11:09:36.000Z\",\"count\":15},{\"pid\":\"0\",\"drug\":\"F\",\"starttime\":\"2017-12-04T12:47:41.000Z\",\"count\":20},{\"pid\":\"0\",\"drug\":\"E\",\"starttime\":\"2017-01-03T04:59:44.000Z\",\"count\":26},{\"pid\":\"1\",\"drug\":\"C\",\"starttime\":\"2016-08-04T18:56:29.000Z\",\"count\":22},{\"pid\":\"1\",\"drug\":\"C\",\"starttime\":\"2017-02-05T00:30:50.000Z\",\"count\":14},{\"pid\":\"1\",\"drug\":\"F\",\"starttime\":\"2015-10-05T19:22:46.000Z\",\"count\":10},{\"pid\":\"1\",\"drug\":\"E\",\"starttime\":\"2015-12-18T07:48:45.000Z\",\"count\":2},{\"pid\":\"1\",\"drug\":\"A\",\"starttime\":\"2016-11-12T20:50:00.000Z\",\"count\":14},{\"pid\":\"1\",\"drug\":\"E\",\"starttime\":\"2017-04-20T17:07:46.000Z\",\"count\":1},{\"pid\":\"1\",\"drug\":\"A\",\"starttime\":\"2017-07-03T19:50:49.000Z\",\"count\":29},{\"pid\":\"1\",\"drug\":\"F\",\"starttime\":\"2017-08-29T02:42:03.000Z\",\"count\":3},{\"pid\":\"1\",\"drug\":\"F\",\"starttime\":\"2017-10-05T17:36:19.000Z\",\"count\":29},{\"pid\":\"1\",\"drug\":\"D\",\"starttime\":\"2016-04-16T03:58:21.000Z\",\"count\":13},{\"pid\":\"2\",\"drug\":\"F\",\"starttime\":\"2016-03-25T19:34:45.000Z\",\"count\":12},{\"pid\":\"2\",\"drug\":\"F\",\"starttime\":\"2018-02-20T06:01:48.000Z\",\"count\":2},{\"pid\":\"2\",\"drug\":\"C\",\"starttime\":\"2016-07-29T10:24:33.000Z\",\"count\":15},{\"pid\":\"2\",\"drug\":\"E\",\"starttime\":\"2016-01-06T23:39:09.000Z\",\"count\":27},{\"pid\":\"2\",\"drug\":\"C\",\"starttime\":\"2017-09-08T08:55:02.000Z\",\"count\":2},{\"pid\":\"2\",\"drug\":\"G\",\"starttime\":\"2017-05-21T19:18:05.000Z\",\"count\":12},{\"pid\":\"2\",\"drug\":\"D\",\"starttime\":\"2016-05-08T15:26:32.000Z\",\"count\":26},{\"pid\":\"3\",\"drug\":\"C\",\"starttime\":\"2016-05-22T10:21:09.000Z\",\"count\":11},{\"pid\":\"3\",\"drug\":\"F\",\"starttime\":\"2016-02-07T02:17:38.000Z\",\"count\":9},{\"pid\":\"3\",\"drug\":\"A\",\"starttime\":\"2017-12-07T21:32:11.000Z\",\"count\":18},{\"pid\":\"3\",\"drug\":\"C\",\"starttime\":\"2017-10-05T10:48:03.000Z\",\"count\":14},{\"pid\":\"3\",\"drug\":\"C\",\"starttime\":\"2016-07-16T05:52:17.000Z\",\"count\":8},{\"pid\":\"3\",\"drug\":\"A\",\"starttime\":\"2018-01-08T09:45:02.000Z\",\"count\":11},{\"pid\":\"3\",\"drug\":\"C\",\"starttime\":\"2016-06-02T13:57:51.000Z\",\"count\":28},{\"pid\":\"3\",\"drug\":\"A\",\"starttime\":\"2017-06-24T01:10:15.000Z\",\"count\":29},{\"pid\":\"3\",\"drug\":\"C\",\"starttime\":\"2017-12-13T05:27:58.000Z\",\"count\":3},{\"pid\":\"3\",\"drug\":\"C\",\"starttime\":\"2016-03-10T23:45:01.000Z\",\"count\":16},{\"pid\":\"3\",\"drug\":\"D\",\"starttime\":\"2017-02-18T04:36:45.000Z\",\"count\":11},{\"pid\":\"4\",\"drug\":\"F\",\"starttime\":\"2017-02-18T07:01:38.000Z\",\"count\":11},{\"pid\":\"5\",\"drug\":\"E\",\"starttime\":\"2017-11-18T05:47:58.000Z\",\"count\":4},{\"pid\":\"5\",\"drug\":\"B\",\"starttime\":\"2016-04-04T02:19:53.000Z\",\"count\":7},{\"pid\":\"5\",\"drug\":\"E\",\"starttime\":\"2017-08-20T19:15:50.000Z\",\"count\":9},{\"pid\":\"5\",\"drug\":\"C\",\"starttime\":\"2017-02-23T04:02:39.000Z\",\"count\":27},{\"pid\":\"5\",\"drug\":\"C\",\"starttime\":\"2015-11-10T06:58:19.000Z\",\"count\":3},{\"pid\":\"5\",\"drug\":\"D\",\"starttime\":\"2017-07-17T08:56:47.000Z\",\"count\":29},{\"pid\":\"6\",\"drug\":\"F\",\"starttime\":\"2017-07-19T16:42:17.000Z\",\"count\":26},{\"pid\":\"6\",\"drug\":\"G\",\"starttime\":\"2016-06-26T17:45:23.000Z\",\"count\":6},{\"pid\":\"6\",\"drug\":\"C\",\"starttime\":\"2016-10-15T22:57:42.000Z\",\"count\":3},{\"pid\":\"7\",\"drug\":\"A\",\"starttime\":\"2017-06-19T01:35:24.000Z\",\"count\":8},{\"pid\":\"7\",\"drug\":\"G\",\"starttime\":\"2015-10-24T11:55:44.000Z\",\"count\":8},{\"pid\":\"7\",\"drug\":\"F\",\"starttime\":\"2016-10-16T09:37:29.000Z\",\"count\":19},{\"pid\":\"7\",\"drug\":\"A\",\"starttime\":\"2015-10-22T16:14:45.000Z\",\"count\":16},{\"pid\":\"7\",\"drug\":\"E\",\"starttime\":\"2017-12-06T07:12:24.000Z\",\"count\":1},{\"pid\":\"7\",\"drug\":\"E\",\"starttime\":\"2017-06-18T15:42:01.000Z\",\"count\":21},{\"pid\":\"7\",\"drug\":\"B\",\"starttime\":\"2016-04-14T17:00:13.000Z\",\"count\":2},{\"pid\":\"7\",\"drug\":\"C\",\"starttime\":\"2017-11-03T22:19:51.000Z\",\"count\":1},{\"pid\":\"7\",\"drug\":\"B\",\"starttime\":\"2016-06-23T14:47:40.000Z\",\"count\":21},{\"pid\":\"8\",\"drug\":\"D\",\"starttime\":\"2017-09-26T05:58:22.000Z\",\"count\":7},{\"pid\":\"8\",\"drug\":\"A\",\"starttime\":\"2016-11-16T04:18:25.000Z\",\"count\":6},{\"pid\":\"8\",\"drug\":\"C\",\"starttime\":\"2017-05-09T16:12:38.000Z\",\"count\":6},{\"pid\":\"8\",\"drug\":\"B\",\"starttime\":\"2016-07-14T16:39:23.000Z\",\"count\":2},{\"pid\":\"8\",\"drug\":\"B\",\"starttime\":\"2017-07-20T21:15:23.000Z\",\"count\":6},{\"pid\":\"8\",\"drug\":\"F\",\"starttime\":\"2015-12-08T16:50:18.000Z\",\"count\":20}]'"
      ]
     },
     "execution_count": 59,
     "metadata": {},
     "output_type": "execute_result"
    }
   ],
   "source": [
    "df = pd.DataFrame(data, columns=[\"pid\", \"drug\", \"starttime\", \"count\"])\n",
    "\n",
    "# TODO: Do we want to convert timestamps into ISO-8601 strings?\n",
    "df.to_json(orient='records', date_format='iso')"
   ]
  },
  {
   "cell_type": "code",
   "execution_count": null,
   "metadata": {},
   "outputs": [],
   "source": []
  }
 ],
 "metadata": {
  "kernelspec": {
   "display_name": "Python 3",
   "language": "python",
   "name": "python3"
  },
  "language_info": {
   "codemirror_mode": {
    "name": "ipython",
    "version": 3
   },
   "file_extension": ".py",
   "mimetype": "text/x-python",
   "name": "python",
   "nbconvert_exporter": "python",
   "pygments_lexer": "ipython3",
   "version": "3.7.4"
  }
 },
 "nbformat": 4,
 "nbformat_minor": 2
}
